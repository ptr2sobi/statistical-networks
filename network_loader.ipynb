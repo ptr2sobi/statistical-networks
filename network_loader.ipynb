{
 "cells": [
  {
   "cell_type": "code",
   "execution_count": 3,
   "metadata": {},
   "outputs": [],
   "source": [
    "import math"
   ]
  },
  {
   "cell_type": "code",
   "execution_count": 1,
   "metadata": {},
   "outputs": [
    {
     "name": "stdout",
     "output_type": "stream",
     "text": [
      "/Users/hamzamunawar/opt/anaconda3/bin/python\n"
     ]
    }
   ],
   "source": [
    "import sys\n",
    "print(sys.executable)\n"
   ]
  },
  {
   "cell_type": "code",
   "execution_count": 2,
   "metadata": {},
   "outputs": [
    {
     "name": "stdout",
     "output_type": "stream",
     "text": [
      "/Users/hamzamunawar/opt/anaconda3/bin/pip\n"
     ]
    }
   ],
   "source": [
    "!which pip\n"
   ]
  },
  {
   "cell_type": "code",
   "execution_count": 5,
   "metadata": {},
   "outputs": [],
   "source": [
    "#!/usr/bin/env python  \n",
    "'''\n",
    "Reference code for data loading. \n",
    "Author: Chongyang Bai\n",
    "For more details, refer to the paper:\n",
    "C.Bai, S. Kumar, J. Leskovec, M. Metzger, J.F. Nunamaker, V.S. Subrahmanian,\n",
    "Predicting Visual Focus of Attention in Multi-person Discussion Videos,\n",
    "International Joint Conference on Artificial Intelligence (IJCAI), 2019.\n",
    "'''\n",
    "\n",
    "import numpy as np\n",
    "import pandas as pd"
   ]
  },
  {
   "cell_type": "code",
   "execution_count": 6,
   "metadata": {},
   "outputs": [
    {
     "name": "stdout",
     "output_type": "stream",
     "text": [
      "network id:0\t length(x 1/3 second): 7323\t num of players: 7\n",
      "network id:1\t length(x 1/3 second): 5328\t num of players: 8\n",
      "network id:2\t length(x 1/3 second): 7533\t num of players: 7\n",
      "network id:3\t length(x 1/3 second): 6264\t num of players: 7\n",
      "network id:4\t length(x 1/3 second): 7323\t num of players: 8\n",
      "network id:5\t length(x 1/3 second): 9651\t num of players: 8\n",
      "network id:6\t length(x 1/3 second): 7260\t num of players: 7\n",
      "network id:7\t length(x 1/3 second): 7245\t num of players: 6\n",
      "network id:8\t length(x 1/3 second): 6243\t num of players: 7\n",
      "network id:9\t length(x 1/3 second): 8340\t num of players: 8\n",
      "network id:10\t length(x 1/3 second): 6681\t num of players: 7\n",
      "network id:11\t length(x 1/3 second): 5415\t num of players: 7\n",
      "network id:12\t length(x 1/3 second): 5571\t num of players: 8\n",
      "network id:13\t length(x 1/3 second): 7173\t num of players: 7\n",
      "network id:14\t length(x 1/3 second): 9429\t num of players: 8\n",
      "network id:15\t length(x 1/3 second): 5466\t num of players: 6\n",
      "network id:16\t length(x 1/3 second): 6678\t num of players: 6\n",
      "network id:17\t length(x 1/3 second): 3054\t num of players: 7\n",
      "network id:18\t length(x 1/3 second): 9264\t num of players: 8\n",
      "network id:19\t length(x 1/3 second): 4248\t num of players: 5\n",
      "network id:20\t length(x 1/3 second): 6594\t num of players: 6\n",
      "network id:21\t length(x 1/3 second): 9699\t num of players: 8\n",
      "network id:22\t length(x 1/3 second): 7662\t num of players: 8\n",
      "network id:23\t length(x 1/3 second): 9537\t num of players: 8\n",
      "network id:24\t length(x 1/3 second): 7875\t num of players: 5\n",
      "network id:25\t length(x 1/3 second): 7737\t num of players: 8\n",
      "network id:26\t length(x 1/3 second): 5037\t num of players: 7\n",
      "network id:27\t length(x 1/3 second): 5229\t num of players: 8\n",
      "network id:28\t length(x 1/3 second): 7683\t num of players: 8\n",
      "network id:29\t length(x 1/3 second): 6360\t num of players: 8\n",
      "network id:30\t length(x 1/3 second): 7806\t num of players: 8\n",
      "network id:31\t length(x 1/3 second): 5496\t num of players: 8\n",
      "network id:32\t length(x 1/3 second): 5778\t num of players: 8\n",
      "network id:33\t length(x 1/3 second): 7431\t num of players: 8\n",
      "network id:34\t length(x 1/3 second): 10611\t num of players: 8\n",
      "network id:35\t length(x 1/3 second): 7011\t num of players: 7\n",
      "network id:36\t length(x 1/3 second): 7212\t num of players: 7\n",
      "network id:37\t length(x 1/3 second): 4698\t num of players: 8\n",
      "network id:38\t length(x 1/3 second): 4926\t num of players: 7\n",
      "network id:39\t length(x 1/3 second): 3678\t num of players: 7\n",
      "network id:40\t length(x 1/3 second): 6939\t num of players: 8\n",
      "network id:41\t length(x 1/3 second): 7323\t num of players: 8\n",
      "network id:42\t length(x 1/3 second): 8661\t num of players: 8\n",
      "network id:43\t length(x 1/3 second): 6048\t num of players: 7\n",
      "network id:44\t length(x 1/3 second): 8307\t num of players: 6\n",
      "network id:45\t length(x 1/3 second): 7023\t num of players: 6\n",
      "network id:46\t length(x 1/3 second): 9183\t num of players: 7\n",
      "network id:47\t length(x 1/3 second): 7428\t num of players: 7\n",
      "network id:48\t length(x 1/3 second): 2904\t num of players: 7\n",
      "network id:49\t length(x 1/3 second): 5742\t num of players: 7\n",
      "network id:50\t length(x 1/3 second): 4758\t num of players: 6\n",
      "network id:51\t length(x 1/3 second): 7320\t num of players: 7\n",
      "network id:52\t length(x 1/3 second): 5553\t num of players: 6\n",
      "network id:53\t length(x 1/3 second): 5961\t num of players: 8\n",
      "network id:54\t length(x 1/3 second): 7326\t num of players: 8\n",
      "network id:55\t length(x 1/3 second): 6828\t num of players: 7\n",
      "network id:56\t length(x 1/3 second): 8286\t num of players: 8\n",
      "network id:57\t length(x 1/3 second): 6420\t num of players: 8\n",
      "network id:58\t length(x 1/3 second): 10710\t num of players: 8\n",
      "network id:59\t length(x 1/3 second): 4518\t num of players: 7\n",
      "network id:60\t length(x 1/3 second): 6729\t num of players: 7\n",
      "network id:61\t length(x 1/3 second): 8499\t num of players: 8\n"
     ]
    }
   ],
   "source": [
    "def loadGame(game, N):\n",
    "\t# N is the number of players in the game\n",
    "\t# load csv data\n",
    "\t# unweighted and weighted networks can be loaded exactly the same way\n",
    "\t# below shows the loader for weighted networks\n",
    "\tdf_network = pd.read_csv(f'{src}/network{game}_weighted.csv', index_col = 0)\n",
    "\n",
    "\t# T is number of timestamps (10 frames)\n",
    "\tT = len(df_network)\n",
    "\t# load VFOA network to T x N x (N+1) array\n",
    "\t# vfoa[t, n, i] is the probability of player n+1 looking at object i at time t\n",
    "\t# i: 0 - laptop, 1 - player 1, 2 - player 2, ..., N - player N\n",
    "\tvfoa = np.reshape(df_network.values, (T,N,N+1))\n",
    "\n",
    "\t# print information\n",
    "\tprint(f'network id:{game}\\t length(x 1/3 second): {T}\\t num of players: {N}')\n",
    "\treturn vfoa\n",
    "\n",
    "src = './network' # root dir of data\n",
    "meta = pd.read_csv('network_list.csv')\n",
    "\n",
    "for _, row in meta.iterrows():\n",
    "\tloadGame(row['NETWORK'], row['NUMBER_OF_PARTICIPANTS'])"
   ]
  },
  {
   "cell_type": "code",
   "execution_count": 7,
   "metadata": {},
   "outputs": [
    {
     "data": {
      "text/html": [
       "<div>\n",
       "<style scoped>\n",
       "    .dataframe tbody tr th:only-of-type {\n",
       "        vertical-align: middle;\n",
       "    }\n",
       "\n",
       "    .dataframe tbody tr th {\n",
       "        vertical-align: top;\n",
       "    }\n",
       "\n",
       "    .dataframe thead th {\n",
       "        text-align: right;\n",
       "    }\n",
       "</style>\n",
       "<table border=\"1\" class=\"dataframe\">\n",
       "  <thead>\n",
       "    <tr style=\"text-align: right;\">\n",
       "      <th></th>\n",
       "      <th>NETWORK</th>\n",
       "      <th>NUMBER_OF_PARTICIPANTS</th>\n",
       "    </tr>\n",
       "  </thead>\n",
       "  <tbody>\n",
       "    <tr>\n",
       "      <th>0</th>\n",
       "      <td>0</td>\n",
       "      <td>7</td>\n",
       "    </tr>\n",
       "    <tr>\n",
       "      <th>1</th>\n",
       "      <td>1</td>\n",
       "      <td>8</td>\n",
       "    </tr>\n",
       "    <tr>\n",
       "      <th>2</th>\n",
       "      <td>2</td>\n",
       "      <td>7</td>\n",
       "    </tr>\n",
       "    <tr>\n",
       "      <th>3</th>\n",
       "      <td>3</td>\n",
       "      <td>7</td>\n",
       "    </tr>\n",
       "    <tr>\n",
       "      <th>4</th>\n",
       "      <td>4</td>\n",
       "      <td>8</td>\n",
       "    </tr>\n",
       "    <tr>\n",
       "      <th>...</th>\n",
       "      <td>...</td>\n",
       "      <td>...</td>\n",
       "    </tr>\n",
       "    <tr>\n",
       "      <th>57</th>\n",
       "      <td>57</td>\n",
       "      <td>8</td>\n",
       "    </tr>\n",
       "    <tr>\n",
       "      <th>58</th>\n",
       "      <td>58</td>\n",
       "      <td>8</td>\n",
       "    </tr>\n",
       "    <tr>\n",
       "      <th>59</th>\n",
       "      <td>59</td>\n",
       "      <td>7</td>\n",
       "    </tr>\n",
       "    <tr>\n",
       "      <th>60</th>\n",
       "      <td>60</td>\n",
       "      <td>7</td>\n",
       "    </tr>\n",
       "    <tr>\n",
       "      <th>61</th>\n",
       "      <td>61</td>\n",
       "      <td>8</td>\n",
       "    </tr>\n",
       "  </tbody>\n",
       "</table>\n",
       "<p>62 rows × 2 columns</p>\n",
       "</div>"
      ],
      "text/plain": [
       "    NETWORK  NUMBER_OF_PARTICIPANTS\n",
       "0         0                       7\n",
       "1         1                       8\n",
       "2         2                       7\n",
       "3         3                       7\n",
       "4         4                       8\n",
       "..      ...                     ...\n",
       "57       57                       8\n",
       "58       58                       8\n",
       "59       59                       7\n",
       "60       60                       7\n",
       "61       61                       8\n",
       "\n",
       "[62 rows x 2 columns]"
      ]
     },
     "execution_count": 7,
     "metadata": {},
     "output_type": "execute_result"
    }
   ],
   "source": [
    "meta"
   ]
  },
  {
   "cell_type": "code",
   "execution_count": 9,
   "metadata": {},
   "outputs": [
    {
     "name": "stdout",
     "output_type": "stream",
     "text": [
      "network id:0\t length(x 1/3 second): 7323\t num of players: 7\n"
     ]
    }
   ],
   "source": [
    "net0 = loadGame(0, 7)"
   ]
  },
  {
   "cell_type": "code",
   "execution_count": null,
   "metadata": {},
   "outputs": [],
   "source": [
    "def loadGame(game, N):\n",
    "\t# N is the number of players in the game\n",
    "\t# load csv data\n",
    "\t# unweighted and weighted networks can be loaded exactly the same way\n",
    "\t# below shows the loader for weighted networks\n",
    "\tdf_network = pd.read_csv(f'{src}/network{game}_weighted.csv', index_col = 0)\n",
    "\n",
    "\t# T is number of timestamps (10 frames)\n",
    "\tT = len(df_network)\n",
    "\t# load VFOA network to T x N x (N+1) array\n",
    "\t# vfoa[t, n, i] is the probability of player n+1 looking at object i at time t\n",
    "\t# i: 0 - laptop, 1 - player 1, 2 - player 2, ..., N - player N\n",
    "\tvfoa = np.reshape(df_network.values, (T,N,N+1))\n",
    "\n",
    "\t# print information\n",
    "\tprint(f'network id:{game}\\t length(x 1/3 second): {T}\\t num of players: {N}')\n",
    "\treturn vfoa\n",
    "\n",
    "src = './network' # root dir of data\n",
    "meta = pd.read_csv('network_list.csv')\n",
    "\n",
    "for _, row in meta.iterrows():\n",
    "\tloadGame(row['NETWORK'], row['NUMBER_OF_PARTICIPANTS'])"
   ]
  },
  {
   "cell_type": "code",
   "execution_count": 12,
   "metadata": {},
   "outputs": [],
   "source": [
    "def convert_to_edge_list(vfoa, N):\n",
    "    edge_lists = []\n",
    "    T = vfoa.shape[0]\n",
    "    \n",
    "    for t in range(T):\n",
    "        time_edges = []\n",
    "        for n in range(N):\n",
    "            for i in range(N + 1):\n",
    "                if i == 0:\n",
    "                    target = 'LAPTOP'\n",
    "                else:\n",
    "                    target = f'P{i}'\n",
    "                weight = vfoa[t, n, i]\n",
    "                if weight > 0:\n",
    "                    source = f'P{n+1}'\n",
    "                    time_edges.append((source, target, weight))\n",
    "        \n",
    "        # Add timestamp to each edge\n",
    "        timestamped_edges = [(t * (1/3), edge[0], edge[1], edge[2]) for edge in time_edges]\n",
    "        edge_lists.extend(timestamped_edges)\n",
    "    \n",
    "    return edge_lists\n",
    "\n",
    "# Convert net0 to edge list\n",
    "edge_list_net0 = convert_to_edge_list(net0, 7)\n",
    "\n",
    "# Create a DataFrame for easier handling in R\n",
    "df_edge_list_net0 = pd.DataFrame(edge_list_net0, columns=['timestamp', 'from', 'to', 'weight'])\n",
    "\n",
    "# # Save to CSV for import in R\n",
    "# df_edge_list_net0.to_csv('edge_list_net0.csv', index=False)"
   ]
  },
  {
   "cell_type": "code",
   "execution_count": 16,
   "metadata": {},
   "outputs": [],
   "source": [
    "df_edge_list_net0.to_csv('edge_list_net0.csv', index=False)"
   ]
  },
  {
   "cell_type": "code",
   "execution_count": null,
   "metadata": {},
   "outputs": [],
   "source": []
  }
 ],
 "metadata": {
  "kernelspec": {
   "display_name": "Python 3",
   "language": "python",
   "name": "python3"
  },
  "language_info": {
   "codemirror_mode": {
    "name": "ipython",
    "version": 3
   },
   "file_extension": ".py",
   "mimetype": "text/x-python",
   "name": "python",
   "nbconvert_exporter": "python",
   "pygments_lexer": "ipython3",
   "version": "3.9.7"
  }
 },
 "nbformat": 4,
 "nbformat_minor": 2
}
